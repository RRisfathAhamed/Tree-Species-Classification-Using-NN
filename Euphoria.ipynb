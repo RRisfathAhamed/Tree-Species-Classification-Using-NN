{
  "nbformat": 4,
  "nbformat_minor": 0,
  "metadata": {
    "colab": {
      "provenance": [],
      "toc_visible": true
    },
    "kernelspec": {
      "name": "python3",
      "display_name": "Python 3"
    },
    "language_info": {
      "name": "python"
    }
  },
  "cells": [
    {
      "cell_type": "code",
      "execution_count": null,
      "metadata": {
        "id": "mygE36eoVHKY"
      },
      "outputs": [],
      "source": [
        "import numpy as np\n",
        "import pandas as pd\n",
        "from sklearn.model_selection import train_test_split\n",
        "from sklearn.preprocessing import StandardScaler, LabelEncoder\n",
        "from tensorflow.keras.models import Sequential, save_model, load_model\n",
        "from tensorflow.keras.layers import Dense\n",
        "from tensorflow.keras.utils import to_categorical\n",
        "\n",
        "try:\n",
        "    data = pd.read_csv('Euphoria.csv')\n",
        "except FileNotFoundError:\n",
        "    print(\"File not found. Please check the filename and path.\")\n",
        "    exit()\n",
        "\n",
        "data.info()\n",
        "print(data.head())\n",
        "\n",
        "X = data.drop(columns=['Name'])\n",
        "y = data['Name']\n",
        "\n",
        "\n",
        "X = X + np.random.normal(0, 1, X.shape)\n",
        "\n",
        "label_encoder = LabelEncoder()\n",
        "\n",
        "label_encoder.fit(y)\n",
        "\n",
        "y_encoded = label_encoder.transform(y)\n",
        "\n",
        "num_classes = len(label_encoder.classes_)\n",
        "y_categorical = to_categorical(y_encoded)\n",
        "\n",
        "X_train, X_test, y_train, y_test = train_test_split(X, y_categorical, test_size=0.2, random_state=42)\n",
        "\n",
        "scaler = StandardScaler()\n",
        "X_train_scaled = scaler.fit_transform(X_train)\n",
        "X_test_scaled = scaler.transform(X_test)\n",
        "\n",
        "model = Sequential([\n",
        "    Dense(16, activation='relu', input_shape=(X_train_scaled.shape[1],)),\n",
        "    Dense(num_classes, activation='softmax')\n",
        "])\n",
        "\n",
        "model.compile(optimizer='adam', loss='categorical_crossentropy', metrics=['accuracy'])\n",
        "\n",
        "model.fit(X_train_scaled, y_train, epochs=30, batch_size=32, validation_split=0.1)\n",
        "\n",
        "loss, accuracy = model.evaluate(X_test_scaled, y_test)\n",
        "print(f'Test Accuracy: {accuracy*100:.2f}%')\n",
        "\n",
        "model.save('tree_species_model.h5')\n",
        "\n",
        "import pickle\n",
        "with open('label_encoder.pkl', 'wb') as le_file:\n",
        "    pickle.dump(label_encoder, le_file)\n",
        "with open('scaler.pkl', 'wb') as sc_file:\n",
        "    pickle.dump(scaler, sc_file)"
      ]
    }
  ]
}